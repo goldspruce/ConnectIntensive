{
 "cells": [
  {
   "cell_type": "markdown",
   "metadata": {},
   "source": [
    "First, let's create our population. We are going to use the skewnorm function from the scipy library to create the distribution. This function creates a normal distribution with the option to skew it left or right. Try playing with the parameters to create different shaped distributions."
   ]
  },
  {
   "cell_type": "code",
   "execution_count": 2,
   "metadata": {
    "collapsed": false
   },
   "outputs": [
    {
     "data": {
      "image/png": "[encoded data removed]",
      "text/plain": [
       "<matplotlib.figure.Figure at 0x7efebfa36310>"
      ]
     },
     "metadata": {},
     "output_type": "display_data"
    },
    {
     "name": "stdout",
     "output_type": "stream",
     "text": [
      "Population mean: 0.805682540928\n",
      "Population standard deviation: 0.612931915882\n"
     ]
    }
   ],
   "source": [
    "from scipy.stats import skewnorm\n",
    "import matplotlib.pyplot as plt\n",
    "import numpy as np\n",
    "\n",
    "# set your skew: play with values of a to see what happens\n",
    "a = 10\n",
    "\n",
    "mean, var, skew = skewnorm.stats(a, moments='mvs')\n",
    "\n",
    "# create population, try changing the size\n",
    "p = skewnorm.rvs(a, size=10000)\n",
    "\n",
    "# and plot your histogram\n",
    "plt.hist(p)\n",
    "plt.show()\n",
    "\n",
    "mu = np.mean(p)\n",
    "sigma = np.std(p)\n",
    "\n",
    "print \"Population mean: \" + str(mu)\n",
    "print \"Population standard deviation: \" + str(sigma)"
   ]
  },
  {
   "cell_type": "markdown",
   "metadata": {},
   "source": [
    "Now lets take a sample from our population dataset. This is called a sample distribution. Run this code a few times to see that we get a different sample each time. You can also try changing the sample size."
   ]
  },
  {
   "cell_type": "code",
   "execution_count": 86,
   "metadata": {
    "collapsed": false
   },
   "outputs": [
    {
     "data": {
      "image/png": "[encoded data removed]",
      "text/plain": [
       "<matplotlib.figure.Figure at 0x7f0f182051d0>"
      ]
     },
     "metadata": {},
     "output_type": "display_data"
    }
   ],
   "source": [
    "import numpy as np\n",
    "\n",
    "#set sample size\n",
    "n = 100\n",
    "\n",
    "s = np.random.choice(p, size = n)\n",
    "\n",
    "plt.hist(s)\n",
    "plt.show()"
   ]
  },
  {
   "cell_type": "markdown",
   "metadata": {},
   "source": [
    "Now that we know how to find a sample, let's do this many times. When we take many samples and plot a statistic from each (in this case we are using the mean), it is called a sampling distribution. "
   ]
  },
  {
   "cell_type": "code",
   "execution_count": 7,
   "metadata": {
    "collapsed": false
   },
   "outputs": [
    {
     "data": {
      "image/png": "[encoded data removed]",
      "text/plain": [
       "<matplotlib.figure.Figure at 0x7efebf7f5710>"
      ]
     },
     "metadata": {},
     "output_type": "display_data"
    },
    {
     "name": "stdout",
     "output_type": "stream",
     "text": [
      "Sampling distrubution mean: 0.805021394893\n",
      "Population mean: 0.805682540928\n",
      "\n",
      "Standard error: 0.0612931915882\n",
      "Standard deviation, sampling distribution: 0.0607825599794\n",
      "Standard deviation, population: 0.612931915882\n"
     ]
    }
   ],
   "source": [
    "# set number of samples to take and sample size\n",
    "samples = 1000\n",
    "n = 100\n",
    "\n",
    "# create a sampling distribution by taking many random samples from our population\n",
    "sampling_dist = []\n",
    "for i in range(0, samples):\n",
    "    s = np.random.choice(p, size = n)\n",
    "    x_bar = np.mean(s)\n",
    "    sampling_dist.append(x_bar)\n",
    "    \n",
    "# plot the sampling distribution\n",
    "plt.hist(sampling_dist)\n",
    "plt.show()\n",
    "\n",
    "# compare the sampling distribution mean with the population mean\n",
    "mean_x_bar = np.mean(sampling_dist)\n",
    "SE = sigma / (n)**0.5\n",
    "sd_sampling_dist = np.std(sampling_dist)\n",
    "print \"Sampling distrubution mean: \" + str(mean_x_bar)\n",
    "print \"Population mean: \" + str(mu)\n",
    "print\n",
    "print \"Standard error: \" + str(SE)\n",
    "print \"Standard deviation, sampling distribution: \" + str(sd_sampling_dist)\n",
    "print \"Standard deviation, population: \" + str(sigma)"
   ]
  },
  {
   "cell_type": "markdown",
   "metadata": {},
   "source": [
    "Now, go back and play with the different parameters some more. Then answer the following questions.\n",
    "\n",
    "1. Describe the difference between a sample distribution and a sampling distribution.\n",
    "2. How does the shape of the sample distribution compare to the shape of the population distribution? What affect does the sample size have on this?\n",
    "3. How does the shape of the sampling distribution compare to the shape of the population distribution? What affect does sample size have on this? Number of samples?\n",
    "4. How do the population mean and the sampling distribution mean compare?"
   ]
  }
 ],
 "metadata": {
  "anaconda-cloud": {},
  "kernelspec": {
   "display_name": "Python [default]",
   "language": "python",
   "name": "python2"
  },
  "language_info": {
   "codemirror_mode": {
    "name": "ipython",
    "version": 2
   },
   "file_extension": ".py",
   "mimetype": "text/x-python",
   "name": "python",
   "nbconvert_exporter": "python",
   "pygments_lexer": "ipython2",
   "version": "2.7.12"
  }
 },
 "nbformat": 4,
 "nbformat_minor": 1
}
